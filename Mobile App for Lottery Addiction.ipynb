{
 "cells": [
  {
   "cell_type": "markdown",
   "metadata": {},
   "source": [
    "## Mobile App for Lottery Addiction\n",
    "\n",
    "### Introduction\n",
    "\n",
    "A medical institute that aims to prevent and treat gambling addictions wants to build a dedicated mobile app to help lottery addicts better estimate their chances of winning. The institute has a team of engineers that will build the app, but they need us to create the logical core of the app and calculate probabilities.\n",
    "\n",
    "For the first version of the app, they want us to focus on the [6/49 lottery](https://en.wikipedia.org/wiki/Lotto_6/49) and build functions that enable users to answer questions like:\n",
    " - What is the probability of winning the big prize with a single ticket?\n",
    " - What is the probability of winning the big prize if we play 40 different tickets (or any other number)?\n",
    " - What is the probability of having at least five (or four, or three, or two) winning numbers on a single ticket?\n",
    "\n",
    "The institute also wants us to consider historical data coming from the national 6/49 lottery game in Canada. [The data set](https://www.kaggle.com/datasets/datascienceai/lottery-dataset) has data for 3,665 drawings, dating from 1982 to 2018.\n"
   ]
  },
  {
   "cell_type": "markdown",
   "metadata": {},
   "source": [
    "## Core Functions\n",
    "\n",
    "we'll need to calculate repeatedly probabilities and combinations. As a consequence, we'll start by writing two functions that we'll use often:\n",
    "\n",
    " - A `function()` that calculates factorials; and\n",
    " - A `function()` that calculates combinations.\n"
   ]
  },
  {
   "cell_type": "code",
   "execution_count": 1,
   "metadata": {
    "collapsed": true
   },
   "outputs": [],
   "source": [
    "def factorial(n):\n",
    "    final_product = 1\n",
    "    for i in range(n, 0, -1):\n",
    "        final_product *= i\n",
    "    return final_product\n",
    "\n",
    "def combinations(n, k):\n",
    "    numerator = factorial(n)\n",
    "    denominator = factorial(k) * factorial(n-k)\n",
    "    return numerator/denominator\n"
   ]
  },
  {
   "cell_type": "markdown",
   "metadata": {},
   "source": [
    "### One-ticket Probability\n",
    "\n",
    "In the 6/49 lottery, six numbers are drawn from a set of 49 numbers that range from 1 to 49. A player wins the big prize if the six numbers on their tickets match all the six numbers drawn.\n",
    "\n",
    "For the first version of the app, we want players to be able to calculate the probability of winning the big prize with the various numbers they play on a single ticket (for each ticket a player chooses six numbers out of 49)."
   ]
  },
  {
   "cell_type": "code",
   "execution_count": 2,
   "metadata": {
    "collapsed": true
   },
   "outputs": [],
   "source": [
    "def one_ticket_probability(user_number):\n",
    "    n_combination = combinations(49, 6)\n",
    "    probability_one_ticket = 1 / n_combination\n",
    "    percentage_form = probability_one_ticket * 100\n",
    "    \n",
    "    print('''Your change of win the big prize with the number {} are {:.7f}%.\n",
    "    In other words, you have 1 in {:,} chances to win'''.format(user_number,\n",
    "                                                               percentage_form, int(n_combination)))\n",
    "    "
   ]
  },
  {
   "cell_type": "markdown",
   "metadata": {},
   "source": [
    "Now, we can test our functions on different input."
   ]
  },
  {
   "cell_type": "code",
   "execution_count": 3,
   "metadata": {},
   "outputs": [
    {
     "name": "stdout",
     "output_type": "stream",
     "text": [
      "Your change of win the big prize with the number [13, 22, 24, 27, 42, 44] are 0.0000072%.\n",
      "    In other words, you have 1 in 13,983,816 chances to win\n"
     ]
    }
   ],
   "source": [
    "test_input =[13, 22, 24, 27, 42, 44] \n",
    "one_ticket_probability(test_input)"
   ]
  },
  {
   "cell_type": "code",
   "execution_count": 4,
   "metadata": {},
   "outputs": [
    {
     "name": "stdout",
     "output_type": "stream",
     "text": [
      "Your change of win the big prize with the number [2, 4, 35, 24, 10, 15] are 0.0000072%.\n",
      "    In other words, you have 1 in 13,983,816 chances to win\n"
     ]
    }
   ],
   "source": [
    "test_input = [2, 4, 35, 24, 10, 15]\n",
    "one_ticket_probability(test_input)"
   ]
  },
  {
   "cell_type": "markdown",
   "metadata": {
    "collapsed": true
   },
   "source": [
    "### Historical Data Check for Canada Lottery\n",
    "\n",
    "We wrote a function that can tell users what is the probability of winning the big prize with a single ticket.\n",
    "\n",
    "We'll focus on exploring the historical data coming from the Canada 6/49 lottery. The data set can be download from [Kaggle](https://www.kaggle.com/datasets/datascienceai/lottery-dataset).\n",
    "\n",
    "The data set contains historical data for 3,665 drawings (each row shows data for a single drawing), dating from 1982 to 2018.  \n",
    " "
   ]
  },
  {
   "cell_type": "code",
   "execution_count": 5,
   "metadata": {},
   "outputs": [
    {
     "name": "stdout",
     "output_type": "stream",
     "text": [
      "<class 'pandas.core.frame.DataFrame'>\n",
      "RangeIndex: 3665 entries, 0 to 3664\n",
      "Data columns (total 11 columns):\n",
      "PRODUCT            3665 non-null int64\n",
      "DRAW NUMBER        3665 non-null int64\n",
      "SEQUENCE NUMBER    3665 non-null int64\n",
      "DRAW DATE          3665 non-null object\n",
      "NUMBER DRAWN 1     3665 non-null int64\n",
      "NUMBER DRAWN 2     3665 non-null int64\n",
      "NUMBER DRAWN 3     3665 non-null int64\n",
      "NUMBER DRAWN 4     3665 non-null int64\n",
      "NUMBER DRAWN 5     3665 non-null int64\n",
      "NUMBER DRAWN 6     3665 non-null int64\n",
      "BONUS NUMBER       3665 non-null int64\n",
      "dtypes: int64(10), object(1)\n",
      "memory usage: 315.0+ KB\n"
     ]
    }
   ],
   "source": [
    "import pandas as pd \n",
    "\n",
    "lottery = pd.read_csv('649.csv')\n",
    "lottery.info()"
   ]
  },
  {
   "cell_type": "code",
   "execution_count": 6,
   "metadata": {},
   "outputs": [
    {
     "data": {
      "text/html": [
       "<div>\n",
       "<style scoped>\n",
       "    .dataframe tbody tr th:only-of-type {\n",
       "        vertical-align: middle;\n",
       "    }\n",
       "\n",
       "    .dataframe tbody tr th {\n",
       "        vertical-align: top;\n",
       "    }\n",
       "\n",
       "    .dataframe thead th {\n",
       "        text-align: right;\n",
       "    }\n",
       "</style>\n",
       "<table border=\"1\" class=\"dataframe\">\n",
       "  <thead>\n",
       "    <tr style=\"text-align: right;\">\n",
       "      <th></th>\n",
       "      <th>PRODUCT</th>\n",
       "      <th>DRAW NUMBER</th>\n",
       "      <th>SEQUENCE NUMBER</th>\n",
       "      <th>DRAW DATE</th>\n",
       "      <th>NUMBER DRAWN 1</th>\n",
       "      <th>NUMBER DRAWN 2</th>\n",
       "      <th>NUMBER DRAWN 3</th>\n",
       "      <th>NUMBER DRAWN 4</th>\n",
       "      <th>NUMBER DRAWN 5</th>\n",
       "      <th>NUMBER DRAWN 6</th>\n",
       "      <th>BONUS NUMBER</th>\n",
       "    </tr>\n",
       "  </thead>\n",
       "  <tbody>\n",
       "    <tr>\n",
       "      <th>0</th>\n",
       "      <td>649</td>\n",
       "      <td>1</td>\n",
       "      <td>0</td>\n",
       "      <td>6/12/1982</td>\n",
       "      <td>3</td>\n",
       "      <td>11</td>\n",
       "      <td>12</td>\n",
       "      <td>14</td>\n",
       "      <td>41</td>\n",
       "      <td>43</td>\n",
       "      <td>13</td>\n",
       "    </tr>\n",
       "    <tr>\n",
       "      <th>1</th>\n",
       "      <td>649</td>\n",
       "      <td>2</td>\n",
       "      <td>0</td>\n",
       "      <td>6/19/1982</td>\n",
       "      <td>8</td>\n",
       "      <td>33</td>\n",
       "      <td>36</td>\n",
       "      <td>37</td>\n",
       "      <td>39</td>\n",
       "      <td>41</td>\n",
       "      <td>9</td>\n",
       "    </tr>\n",
       "    <tr>\n",
       "      <th>2</th>\n",
       "      <td>649</td>\n",
       "      <td>3</td>\n",
       "      <td>0</td>\n",
       "      <td>6/26/1982</td>\n",
       "      <td>1</td>\n",
       "      <td>6</td>\n",
       "      <td>23</td>\n",
       "      <td>24</td>\n",
       "      <td>27</td>\n",
       "      <td>39</td>\n",
       "      <td>34</td>\n",
       "    </tr>\n",
       "  </tbody>\n",
       "</table>\n",
       "</div>"
      ],
      "text/plain": [
       "   PRODUCT  DRAW NUMBER  SEQUENCE NUMBER  DRAW DATE  NUMBER DRAWN 1  \\\n",
       "0      649            1                0  6/12/1982               3   \n",
       "1      649            2                0  6/19/1982               8   \n",
       "2      649            3                0  6/26/1982               1   \n",
       "\n",
       "   NUMBER DRAWN 2  NUMBER DRAWN 3  NUMBER DRAWN 4  NUMBER DRAWN 5  \\\n",
       "0              11              12              14              41   \n",
       "1              33              36              37              39   \n",
       "2               6              23              24              27   \n",
       "\n",
       "   NUMBER DRAWN 6  BONUS NUMBER  \n",
       "0              43            13  \n",
       "1              41             9  \n",
       "2              39            34  "
      ]
     },
     "execution_count": 6,
     "metadata": {},
     "output_type": "execute_result"
    }
   ],
   "source": [
    "#see the firts three rows\n",
    "lottery.head(3)"
   ]
  },
  {
   "cell_type": "code",
   "execution_count": 7,
   "metadata": {},
   "outputs": [
    {
     "data": {
      "text/html": [
       "<div>\n",
       "<style scoped>\n",
       "    .dataframe tbody tr th:only-of-type {\n",
       "        vertical-align: middle;\n",
       "    }\n",
       "\n",
       "    .dataframe tbody tr th {\n",
       "        vertical-align: top;\n",
       "    }\n",
       "\n",
       "    .dataframe thead th {\n",
       "        text-align: right;\n",
       "    }\n",
       "</style>\n",
       "<table border=\"1\" class=\"dataframe\">\n",
       "  <thead>\n",
       "    <tr style=\"text-align: right;\">\n",
       "      <th></th>\n",
       "      <th>PRODUCT</th>\n",
       "      <th>DRAW NUMBER</th>\n",
       "      <th>SEQUENCE NUMBER</th>\n",
       "      <th>DRAW DATE</th>\n",
       "      <th>NUMBER DRAWN 1</th>\n",
       "      <th>NUMBER DRAWN 2</th>\n",
       "      <th>NUMBER DRAWN 3</th>\n",
       "      <th>NUMBER DRAWN 4</th>\n",
       "      <th>NUMBER DRAWN 5</th>\n",
       "      <th>NUMBER DRAWN 6</th>\n",
       "      <th>BONUS NUMBER</th>\n",
       "    </tr>\n",
       "  </thead>\n",
       "  <tbody>\n",
       "    <tr>\n",
       "      <th>3662</th>\n",
       "      <td>649</td>\n",
       "      <td>3589</td>\n",
       "      <td>0</td>\n",
       "      <td>6/13/2018</td>\n",
       "      <td>6</td>\n",
       "      <td>22</td>\n",
       "      <td>24</td>\n",
       "      <td>31</td>\n",
       "      <td>32</td>\n",
       "      <td>34</td>\n",
       "      <td>16</td>\n",
       "    </tr>\n",
       "    <tr>\n",
       "      <th>3663</th>\n",
       "      <td>649</td>\n",
       "      <td>3590</td>\n",
       "      <td>0</td>\n",
       "      <td>6/16/2018</td>\n",
       "      <td>2</td>\n",
       "      <td>15</td>\n",
       "      <td>21</td>\n",
       "      <td>31</td>\n",
       "      <td>38</td>\n",
       "      <td>49</td>\n",
       "      <td>8</td>\n",
       "    </tr>\n",
       "    <tr>\n",
       "      <th>3664</th>\n",
       "      <td>649</td>\n",
       "      <td>3591</td>\n",
       "      <td>0</td>\n",
       "      <td>6/20/2018</td>\n",
       "      <td>14</td>\n",
       "      <td>24</td>\n",
       "      <td>31</td>\n",
       "      <td>35</td>\n",
       "      <td>37</td>\n",
       "      <td>48</td>\n",
       "      <td>17</td>\n",
       "    </tr>\n",
       "  </tbody>\n",
       "</table>\n",
       "</div>"
      ],
      "text/plain": [
       "      PRODUCT  DRAW NUMBER  SEQUENCE NUMBER  DRAW DATE  NUMBER DRAWN 1  \\\n",
       "3662      649         3589                0  6/13/2018               6   \n",
       "3663      649         3590                0  6/16/2018               2   \n",
       "3664      649         3591                0  6/20/2018              14   \n",
       "\n",
       "      NUMBER DRAWN 2  NUMBER DRAWN 3  NUMBER DRAWN 4  NUMBER DRAWN 5  \\\n",
       "3662              22              24              31              32   \n",
       "3663              15              21              31              38   \n",
       "3664              24              31              35              37   \n",
       "\n",
       "      NUMBER DRAWN 6  BONUS NUMBER  \n",
       "3662              34            16  \n",
       "3663              49             8  \n",
       "3664              48            17  "
      ]
     },
     "execution_count": 7,
     "metadata": {},
     "output_type": "execute_result"
    }
   ],
   "source": [
    "#see the last 3 rows\n",
    "lottery.tail(3)"
   ]
  },
  {
   "cell_type": "markdown",
   "metadata": {},
   "source": [
    "### Function for historical Data Check\n",
    "\n",
    "we're going to write `extract_numbers()` a function that will enable users to compare their ticket against the historical lottery data in Canada and determine whether they would have ever won by now. \n",
    "\n",
    "The engineering team told us that we need to be aware of the following details:\n",
    " - Inside the app, the user inputs six different numbers from 1 to 49.\n",
    " - Under the hood, the six numbers will come as a Python list and serve as an input to our function.\n",
    " - The engineering team wants us to write a function that prints:\n",
    "     - the number of times the combination selected occurred in the Canada data set; and\n",
    "     - the probability of winning the big prize in the next drawing with that combination."
   ]
  },
  {
   "cell_type": "code",
   "execution_count": 8,
   "metadata": {},
   "outputs": [
    {
     "data": {
      "text/plain": [
       "0    {3, 41, 11, 12, 43, 14}\n",
       "1    {33, 36, 37, 39, 8, 41}\n",
       "2     {1, 6, 39, 23, 24, 27}\n",
       "3     {3, 9, 10, 43, 13, 20}\n",
       "4    {34, 5, 14, 47, 21, 31}\n",
       "dtype: object"
      ]
     },
     "execution_count": 8,
     "metadata": {},
     "output_type": "execute_result"
    }
   ],
   "source": [
    "def extract_numbers(row):\n",
    "    row = row[4:10]\n",
    "    row = set(row.values)\n",
    "    return row\n",
    "\n",
    "winning_numbers = lottery.apply(extract_numbers, axis=1)\n",
    "winning_numbers.head()"
   ]
  },
  {
   "cell_type": "markdown",
   "metadata": {},
   "source": [
    "Now, we'll write a function `check_istorical_occurence()` that take in the input user and the storical data and print information with respect to the number of occurrence and the probability of winning in the next  drawing. "
   ]
  },
  {
   "cell_type": "code",
   "execution_count": 9,
   "metadata": {
    "collapsed": true
   },
   "outputs": [],
   "source": [
    "def check_historical_occurrence(user_numbers, historical_numbers):\n",
    "    '''user number: Python list\n",
    "        Historical number: panda series'''\n",
    "    user_numbers_set = set(user_numbers)\n",
    "    check_occurrences = historical_numbers == user_numbers_set\n",
    "    n_occurrences = check_occurrences.sum()\n",
    "    \n",
    "    if n_occurrences == 0:\n",
    "        print('''The combinations {} never occurred.\n",
    " it doesn't mean it's more likely to occur now. Your chances to win\n",
    "the big prize in the next drawing, \n",
    "In other words, you have 1 in 13,983,816 chances to win'''.format(user_numbers, user_numbers))\n",
    "        \n",
    "    else: \n",
    "        print('''The number of time combinations {} has occured in the past is {}.\n",
    " Your change of win the big prize with the number {} are 0.0000072%.\n",
    "In other words, you have 1 in 13,983,816 chances to win.'''.format(user_numbers, n_occurrences,\n",
    "                                                                                user_numbers))"
   ]
  },
  {
   "cell_type": "code",
   "execution_count": 10,
   "metadata": {},
   "outputs": [
    {
     "name": "stdout",
     "output_type": "stream",
     "text": [
      "The number of time combinations [33, 36, 37, 39, 8, 41] has occured in the past is 1.\n",
      " Your change of win the big prize with the number [33, 36, 37, 39, 8, 41] are 0.0000072%.\n",
      "In other words, you have 1 in 13,983,816 chances to win.\n"
     ]
    }
   ],
   "source": [
    "test_input_2 = [33, 36, 37, 39, 8, 41]\n",
    "check_historical_occurrence(test_input_2, winning_numbers)"
   ]
  },
  {
   "cell_type": "code",
   "execution_count": 11,
   "metadata": {},
   "outputs": [
    {
     "name": "stdout",
     "output_type": "stream",
     "text": [
      "The combinations [3, 2, 44, 22, 1, 44] never occurred.\n",
      " it doesn't mean it's more likely to occur now. Your chances to win\n",
      "the big prize in the next drawing, \n",
      "In other words, you have 1 in 13,983,816 chances to win\n"
     ]
    }
   ],
   "source": [
    "test_input_3 = [3, 2, 44, 22, 1, 44]\n",
    "check_historical_occurrence(test_input_3, winning_numbers)"
   ]
  },
  {
   "cell_type": "markdown",
   "metadata": {},
   "source": [
    "### Multi-ticket Probability\n",
    "\n",
    "Lottery addicts usually play more than one ticket on a single drawing, thinking that this might increase their chances of winning significantly. \n",
    "\n",
    "Our purpose is to help them better estimate their chances of winning.\n",
    "\n",
    "We've talked with the engineering team and they gave us the following information.\n",
    "\n",
    " - The user will input the number of different tickets they want to play (without inputting the specific combinations they intend to play).\n",
    " - Our function will see an integer between 1 and 13,983,816 (the maximum number of different tickets).\n",
    " - The function shoul print information about the provability of winning the big prize depending on the number of different tickets played.\n",
    " \n",
    " below, we write the function `multi_ticket_probability()` that take in\n",
    " the number of ticketrs, and print probability information depending on the input."
   ]
  },
  {
   "cell_type": "code",
   "execution_count": 12,
   "metadata": {},
   "outputs": [],
   "source": [
    "def multi_ticket_probability(n_tickets):\n",
    "    n_combinations = combinations(49, 6)\n",
    "    \n",
    "    probability_ticket = n_tickets/n_combinations\n",
    "    percentage_form = probability_ticket * 100\n",
    "    \n",
    "    if n_tickets == 1:\n",
    "        print('''Your change to win the big prize with one ticket are {:.6f}%.\n",
    "in other words, the chaces to win.'''.format(percentage_form, int(n_combinations)))\n",
    "              \n",
    "    else:\n",
    "        combinations_simplified = round(n_combinations/n_tickets)\n",
    "        print('''The chance to win the big prize with {:,} different ticket are {:.6f}%.\n",
    "in other words you have a 1 in {:,} to win'''.format(n_tickets, percentage_form,\n",
    "                                                     combinations_simplified))       \n"
   ]
  },
  {
   "cell_type": "code",
   "execution_count": 13,
   "metadata": {},
   "outputs": [
    {
     "name": "stdout",
     "output_type": "stream",
     "text": [
      "Your change to win the big prize with one ticket are 0.000007%.\n",
      "in other words, the chaces to win.\n",
      "-----------------------\n",
      "The chance to win the big prize with 10 different ticket are 0.000072%.\n",
      "in other words you have a 1 in 1,398,382 to win\n",
      "-----------------------\n",
      "The chance to win the big prize with 100 different ticket are 0.000715%.\n",
      "in other words you have a 1 in 139,838 to win\n",
      "-----------------------\n",
      "The chance to win the big prize with 10,000 different ticket are 0.071511%.\n",
      "in other words you have a 1 in 1,398 to win\n",
      "-----------------------\n",
      "The chance to win the big prize with 1,000,000 different ticket are 7.151124%.\n",
      "in other words you have a 1 in 14 to win\n",
      "-----------------------\n",
      "The chance to win the big prize with 6,991,908 different ticket are 50.000000%.\n",
      "in other words you have a 1 in 2 to win\n",
      "-----------------------\n",
      "The chance to win the big prize with 13,983,816 different ticket are 100.000000%.\n",
      "in other words you have a 1 in 1 to win\n",
      "-----------------------\n"
     ]
    }
   ],
   "source": [
    "test_inputs = [1, 10, 100, 10000, 1000000, 6991908, 13983816]\n",
    "for test_input in test_inputs:\n",
    "    multi_ticket_probability(test_input)\n",
    "    print('-----------------------')"
   ]
  },
  {
   "cell_type": "markdown",
   "metadata": {},
   "source": [
    "### Less Winning Numbers - Function\n",
    "\n",
    "we're going to write one more function to allow the users to calculate probabilities for two, three, four, or five winning numbers.\n",
    "\n",
    " in most 6/49 lotteries there are smaller prizes if a player's ticket match two, three, four, or five of the six numbers drawn. As a consequence, the users might be interested in knowing the probability of having two, three, four, or five winning numbers.\n",
    "\n",
    "These are the engineering details we'll need to be aware of:\n",
    "\n",
    "- Inside the app, the user inputs:\n",
    "  - six different numbers from 1 to 49; and\n",
    "  - an integer between 2 and 5 that represents the number of winning numbers expected\n",
    "- Our function prints information about the probability of having the inputted number of winning numbers.\n",
    "\n",
    "To calculate the probabilities, we tell the engineering team that the specific combination on the ticket is irrelevant behind the scenes, and we only need the integer between 2 and 5 representing the number of winning numbers expected. We will write a function named `probability_less_6()` which takes in an integer and prints information about the chances of winning depending on the value of that integer.\n"
   ]
  },
  {
   "cell_type": "code",
   "execution_count": 18,
   "metadata": {
    "collapsed": true
   },
   "outputs": [],
   "source": [
    "def probability_less_6(n_winning_numbers):\n",
    "    n_combinations_ticket = combinations(6, n_winning_numbers)\n",
    "    n_combinations_rimaining = combinations(43, 6 - n_winning_numbers)\n",
    "    succeful_outcomes = n_combinations_ticket * n_combinations_rimaining\n",
    "    \n",
    "    n_combination_total = combinations(49, 6)\n",
    "    probability = succeful_outcomes/n_combination_total\n",
    "    \n",
    "    probability_percentage = probability * 100\n",
    "    \n",
    "    combinations_simplified = round(n_combination_total/succeful_outcomes)\n",
    "    print('''Your changes of having {} winning number with this ticket are {:.6f}%.\n",
    "in other words, you have a 1 in {} chances to win'''.format(n_winning_numbers, probability_percentage,\n",
    "                                                           int(combinations_simplified)))"
   ]
  },
  {
   "cell_type": "code",
   "execution_count": 19,
   "metadata": {},
   "outputs": [
    {
     "name": "stdout",
     "output_type": "stream",
     "text": [
      "Your changes of having 1 winning number with this ticket are 41.301945%.\n",
      "in other words, you have a 1 in 2 chances to win\n",
      "------------------------\n",
      "Your changes of having 2 winning number with this ticket are 13.237803%.\n",
      "in other words, you have a 1 in 8 chances to win\n",
      "------------------------\n",
      "Your changes of having 3 winning number with this ticket are 1.765040%.\n",
      "in other words, you have a 1 in 57 chances to win\n",
      "------------------------\n",
      "Your changes of having 4 winning number with this ticket are 0.096862%.\n",
      "in other words, you have a 1 in 1032 chances to win\n",
      "------------------------\n",
      "Your changes of having 5 winning number with this ticket are 0.001845%.\n",
      "in other words, you have a 1 in 54201 chances to win\n",
      "------------------------\n"
     ]
    }
   ],
   "source": [
    " for test_output in [1, 2, 3, 4, 5]:\n",
    "        probability_less_6(test_output)\n",
    "        print('------------------------')"
   ]
  },
  {
   "cell_type": "markdown",
   "metadata": {},
   "source": [
    "### Next Stepds\n",
    "\n",
    " We managed to write four main functions for our app:\n",
    " - one_ticket_probability() — calculates the probability of winning the big prize with a single ticket\n",
    " - check_historical_occurrence() — checks whether a certain combination has occurred in the Canada lottery data set\n",
    " - multi_ticket_probability() — calculates the probability for any number of of tickets between 1 and 13,983,816\n",
    " - probability_less_6() — calculates the probability of having two, three, four or five winning numbers\n",
    " \n",
    " Possible features for a second version of the app include:\n",
    "\n",
    " - Making the outputs even easier to understand by adding fun analogies (for example, we can find probabilities for strange events and compare with the chances of winning in lottery; for instance, we can output something along the lines \"You are 100 times more likely to be the victim of a shark attack than winning the lottery\").\n",
    " - Combining the one_ticket_probability() and check_historical_occurrence() to output information on probability and historical occurrence at the same time.\n",
    " - Creating a function similar to probability_less_6() which calculates the probability of having at least two, three, four or five winning numbers. Hint: the number of successful outcomes for having at least four winning numbers is the sum of these three numbers:\n",
    "The number of successful outcomes for having four winning numbers exactly\n",
    "The number of successful outcomes for having five winning numbers exactly\n",
    "The number of successful outcomes for having six winning numbers exactly\n",
    " "
   ]
  }
 ],
 "metadata": {
  "kernelspec": {
   "display_name": "Python 3",
   "language": "python",
   "name": "python3"
  },
  "language_info": {
   "codemirror_mode": {
    "name": "ipython",
    "version": 3
   },
   "file_extension": ".py",
   "mimetype": "text/x-python",
   "name": "python",
   "nbconvert_exporter": "python",
   "pygments_lexer": "ipython3",
   "version": "3.8.8"
  }
 },
 "nbformat": 4,
 "nbformat_minor": 2
}
